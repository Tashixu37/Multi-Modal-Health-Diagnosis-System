{
 "cells": [
  {
   "cell_type": "code",
   "execution_count": 1,
   "metadata": {},
   "outputs": [
    {
     "name": "stdout",
     "output_type": "stream",
     "text": [
      "Data preprocessing complete. Cleaned dataset saved as 'cleaned_indiana_dataset.csv'.\n"
     ]
    }
   ],
   "source": [
    "import pandas as pd\n",
    "\n",
    "# Load CSV files\n",
    "projections_df = pd.read_csv(\"indiana_projections.csv\")\n",
    "reports_df = pd.read_csv(\"indiana_reports.csv\")\n",
    "\n",
    "# Merge datasets on 'uid'\n",
    "merged_df = projections_df.merge(reports_df, on=\"uid\", how=\"inner\")\n",
    "\n",
    "# Drop rows where 'impression' is missing (critical for diagnosis)\n",
    "merged_df = merged_df.dropna(subset=[\"impression\"])\n",
    "\n",
    "# Fill missing values in other textual fields\n",
    "merged_df.fillna({\n",
    "    \"indication\": \"Not provided\",\n",
    "    \"comparison\": \"Not provided\",\n",
    "    \"findings\": \"Not provided\"\n",
    "}, inplace=True)\n",
    "\n",
    "# Save the cleaned dataset for retrieval tasks\n",
    "merged_df.to_csv(\"cleaned_indiana_dataset.csv\", index=False)\n",
    "\n",
    "print(\"Data preprocessing complete. Cleaned dataset saved as 'cleaned_indiana_dataset.csv'.\")"
   ]
  }
 ],
 "metadata": {
  "kernelspec": {
   "display_name": "Python 3",
   "language": "python",
   "name": "python3"
  },
  "language_info": {
   "codemirror_mode": {
    "name": "ipython",
    "version": 3
   },
   "file_extension": ".py",
   "mimetype": "text/x-python",
   "name": "python",
   "nbconvert_exporter": "python",
   "pygments_lexer": "ipython3",
   "version": "3.11.3"
  }
 },
 "nbformat": 4,
 "nbformat_minor": 2
}

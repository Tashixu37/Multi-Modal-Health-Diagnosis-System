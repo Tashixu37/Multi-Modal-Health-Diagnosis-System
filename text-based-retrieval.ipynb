{
 "cells": [
  {
   "cell_type": "code",
   "execution_count": 6,
   "metadata": {},
   "outputs": [
    {
     "ename": "AssertionError",
     "evalue": "",
     "output_type": "error",
     "traceback": [
      "\u001b[1;31m---------------------------------------------------------------------------\u001b[0m",
      "\u001b[1;31mAssertionError\u001b[0m                            Traceback (most recent call last)",
      "Cell \u001b[1;32mIn[6], line 32\u001b[0m\n\u001b[0;32m     30\u001b[0m d, num_embeddings \u001b[38;5;241m=\u001b[39m embeddings\u001b[38;5;241m.\u001b[39mshape\n\u001b[0;32m     31\u001b[0m index \u001b[38;5;241m=\u001b[39m faiss\u001b[38;5;241m.\u001b[39mIndexFlatL2(d)\n\u001b[1;32m---> 32\u001b[0m \u001b[43mindex\u001b[49m\u001b[38;5;241;43m.\u001b[39;49m\u001b[43madd\u001b[49m\u001b[43m(\u001b[49m\u001b[43membeddings\u001b[49m\u001b[43m)\u001b[49m\n\u001b[0;32m     34\u001b[0m \u001b[38;5;28;01mdef\u001b[39;00m \u001b[38;5;21msearch_similar_cases\u001b[39m(query, top_k\u001b[38;5;241m=\u001b[39m\u001b[38;5;241m5\u001b[39m):\n\u001b[0;32m     35\u001b[0m \u001b[38;5;250m    \u001b[39m\u001b[38;5;124;03m\"\"\"Retrieve similar cases given a textual query.\"\"\"\u001b[39;00m\n",
      "File \u001b[1;32mc:\\Users\\tashi\\AppData\\Local\\Programs\\Python\\Python311\\Lib\\site-packages\\faiss\\class_wrappers.py:228\u001b[0m, in \u001b[0;36mhandle_Index.<locals>.replacement_add\u001b[1;34m(self, x)\u001b[0m\n\u001b[0;32m    215\u001b[0m \u001b[38;5;250m\u001b[39m\u001b[38;5;124;03m\"\"\"Adds vectors to the index.\u001b[39;00m\n\u001b[0;32m    216\u001b[0m \u001b[38;5;124;03mThe index must be trained before vectors can be added to it.\u001b[39;00m\n\u001b[0;32m    217\u001b[0m \u001b[38;5;124;03mThe vectors are implicitly numbered in sequence. When `n` vectors are\u001b[39;00m\n\u001b[1;32m   (...)\u001b[0m\n\u001b[0;32m    224\u001b[0m \u001b[38;5;124;03m    `dtype` must be float32.\u001b[39;00m\n\u001b[0;32m    225\u001b[0m \u001b[38;5;124;03m\"\"\"\u001b[39;00m\n\u001b[0;32m    227\u001b[0m n, d \u001b[38;5;241m=\u001b[39m x\u001b[38;5;241m.\u001b[39mshape\n\u001b[1;32m--> 228\u001b[0m \u001b[38;5;28;01massert\u001b[39;00m d \u001b[38;5;241m==\u001b[39m \u001b[38;5;28mself\u001b[39m\u001b[38;5;241m.\u001b[39md\n\u001b[0;32m    229\u001b[0m x \u001b[38;5;241m=\u001b[39m np\u001b[38;5;241m.\u001b[39mascontiguousarray(x, dtype\u001b[38;5;241m=\u001b[39m\u001b[38;5;124m'\u001b[39m\u001b[38;5;124mfloat32\u001b[39m\u001b[38;5;124m'\u001b[39m)\n\u001b[0;32m    230\u001b[0m \u001b[38;5;28mself\u001b[39m\u001b[38;5;241m.\u001b[39madd_c(n, swig_ptr(x))\n",
      "\u001b[1;31mAssertionError\u001b[0m: "
     ]
    }
   ],
   "source": [
    "import torch\n",
    "from transformers import AutoTokenizer, AutoModel\n",
    "import faiss\n",
    "import numpy as np\n",
    "import pandas as pd\n",
    "\n",
    "# Load the pre-trained BioBERT model and tokenizer\n",
    "model_name = \"dmis-lab/biobert-base-cased-v1.1\"\n",
    "tokenizer = AutoTokenizer.from_pretrained(model_name)\n",
    "model = AutoModel.from_pretrained(model_name)\n",
    "model.eval()\n",
    "\n",
    "def get_embedding(text):\n",
    "    \"\"\"Generate BioBERT embeddings for a given text.\"\"\"\n",
    "    inputs = tokenizer(text, return_tensors=\"pt\", padding=True, truncation=True, max_length=512)\n",
    "    with torch.no_grad():\n",
    "        outputs = model(**inputs)\n",
    "    return outputs.last_hidden_state[:, 0, :].squeeze().numpy()\n",
    "\n",
    "# Load the cleaned dataset\n",
    "cleaned_df = pd.read_csv(\"cleaned_indiana_dataset.csv\")\n",
    "\n",
    "# Combine 'findings' and 'impression' for embedding\n",
    "cleaned_df['text'] = cleaned_df['findings'] + \" \" + cleaned_df['impression']\n",
    "\n",
    "# Generate embeddings for all reports\n",
    "embeddings = np.array([get_embedding(text) for text in cleaned_df['text']])\n",
    "\n",
    "# Create a FAISS index for fast similarity search\n",
    "d, num_embeddings = embeddings.shape\n",
    "index = faiss.IndexFlatL2(d)\n",
    "index.add(embeddings)\n",
    "\n",
    "def search_similar_cases(query, top_k=5):\n",
    "    \"\"\"Retrieve similar cases given a textual query.\"\"\"\n",
    "    query_embedding = get_embedding(query).reshape(1, -1)\n",
    "    distances, indices = index.search(query_embedding, top_k)\n",
    "    return cleaned_df.iloc[indices[0]]\n",
    "\n",
    "print(\"Text retrieval system is ready! Use search_similar_cases(query) to find related cases.\")"
   ]
  },
  {
   "cell_type": "code",
   "execution_count": 5,
   "metadata": {},
   "outputs": [
    {
     "ename": "NameError",
     "evalue": "name 'search_similar_cases' is not defined",
     "output_type": "error",
     "traceback": [
      "\u001b[1;31m---------------------------------------------------------------------------\u001b[0m",
      "\u001b[1;31mNameError\u001b[0m                                 Traceback (most recent call last)",
      "Cell \u001b[1;32mIn[5], line 5\u001b[0m\n\u001b[0;32m      2\u001b[0m sample_query \u001b[38;5;241m=\u001b[39m \u001b[38;5;124m\"\u001b[39m\u001b[38;5;124mPatient shows signs of pneumonia with bilateral lung opacity.\u001b[39m\u001b[38;5;124m\"\u001b[39m\n\u001b[0;32m      4\u001b[0m \u001b[38;5;66;03m# Retrieve similar cases\u001b[39;00m\n\u001b[1;32m----> 5\u001b[0m similar_cases \u001b[38;5;241m=\u001b[39m \u001b[43msearch_similar_cases\u001b[49m(sample_query, top_k\u001b[38;5;241m=\u001b[39m\u001b[38;5;241m3\u001b[39m)\n\u001b[0;32m      7\u001b[0m \u001b[38;5;66;03m# Display the retrieved cases\u001b[39;00m\n\u001b[0;32m      8\u001b[0m \u001b[38;5;28mprint\u001b[39m(similar_cases[[\u001b[38;5;124m'\u001b[39m\u001b[38;5;124muid\u001b[39m\u001b[38;5;124m'\u001b[39m, \u001b[38;5;124m'\u001b[39m\u001b[38;5;124mfindings\u001b[39m\u001b[38;5;124m'\u001b[39m, \u001b[38;5;124m'\u001b[39m\u001b[38;5;124mimpression\u001b[39m\u001b[38;5;124m'\u001b[39m]])\n",
      "\u001b[1;31mNameError\u001b[0m: name 'search_similar_cases' is not defined"
     ]
    }
   ],
   "source": [
    "# Sample query for testing\n",
    "sample_query = \"Patient shows signs of pneumonia with bilateral lung opacity.\"\n",
    "\n",
    "# Retrieve similar cases\n",
    "similar_cases = search_similar_cases(sample_query, top_k=3)\n",
    "\n",
    "# Display the retrieved cases\n",
    "print(similar_cases[['uid', 'findings', 'impression']])"
   ]
  },
  {
   "cell_type": "code",
   "execution_count": 4,
   "metadata": {},
   "outputs": [
    {
     "name": "stdout",
     "output_type": "stream",
     "text": [
      "BioBERT embeddings saved successfully!\n"
     ]
    }
   ],
   "source": [
    "import torch\n",
    "import pandas as pd\n",
    "import numpy as np\n",
    "from transformers import AutoTokenizer, AutoModel\n",
    "import re\n",
    "\n",
    "# Load BioBERT model and tokenizer\n",
    "biobert_model_name = \"dmis-lab/biobert-base-cased-v1.1\"\n",
    "tokenizer = AutoTokenizer.from_pretrained(biobert_model_name)\n",
    "model = AutoModel.from_pretrained(biobert_model_name)\n",
    "\n",
    "# Move model to GPU if available\n",
    "device = torch.device(\"cuda\" if torch.cuda.is_available() else \"cpu\")\n",
    "model.to(device)\n",
    "\n",
    "# Load cleaned CSV file\n",
    "csv_path = \"cleaned_indiana_dataset.csv\"  # Update the path if needed\n",
    "df = pd.read_csv(csv_path)\n",
    "\n",
    "# Text Cleaning Function\n",
    "def clean_text(text):\n",
    "    text = str(text).lower()\n",
    "    text = re.sub(r\"\\b(?:none|not provided|normal chest x-xxxx)\\b\", \"\", text)\n",
    "    text = re.sub(r\"[^a-z0-9\\s.,]\", \"\", text)\n",
    "    text = re.sub(r\"\\s+\", \" \", text).strip()\n",
    "    return text\n",
    "\n",
    "# Apply text cleaning\n",
    "df[\"cleaned_findings\"] = df[\"findings\"].apply(clean_text)\n",
    "df[\"cleaned_impression\"] = df[\"impression\"].apply(clean_text)\n",
    "\n",
    "# Function to generate BioBERT embeddings\n",
    "def get_biobert_embedding(text):\n",
    "    inputs = tokenizer(text, return_tensors=\"pt\", padding=True, truncation=True, max_length=512)\n",
    "    inputs = {key: val.to(device) for key, val in inputs.items()}  # Move inputs to GPU if available\n",
    "    \n",
    "    with torch.no_grad():\n",
    "        outputs = model(**inputs)\n",
    "    \n",
    "    # Use the mean of the last hidden state as the sentence embedding\n",
    "    embedding = outputs.last_hidden_state.mean(dim=1).squeeze().cpu().numpy()\n",
    "    return embedding\n",
    "\n",
    "# Generate embeddings for all samples\n",
    "df[\"biobert_embedding\"] = df[\"cleaned_findings\"].apply(lambda x: get_biobert_embedding(x) if x else np.zeros(768))\n",
    "\n",
    "# Convert embeddings to numpy array\n",
    "embeddings = np.vstack(df[\"biobert_embedding\"].values)\n",
    "\n",
    "# Save embeddings for later retrieval\n",
    "np.save(\"biobert_embeddings.npy\", embeddings)\n",
    "\n",
    "# Save the updated dataset\n",
    "df.to_csv(\"cleaned_indiana_dataset_with_embeddings.csv\", index=False)\n",
    "\n",
    "print(\"BioBERT embeddings saved successfully!\")"
   ]
  }
 ],
 "metadata": {
  "kernelspec": {
   "display_name": "Python 3",
   "language": "python",
   "name": "python3"
  },
  "language_info": {
   "codemirror_mode": {
    "name": "ipython",
    "version": 3
   },
   "file_extension": ".py",
   "mimetype": "text/x-python",
   "name": "python",
   "nbconvert_exporter": "python",
   "pygments_lexer": "ipython3",
   "version": "3.11.3"
  }
 },
 "nbformat": 4,
 "nbformat_minor": 2
}
